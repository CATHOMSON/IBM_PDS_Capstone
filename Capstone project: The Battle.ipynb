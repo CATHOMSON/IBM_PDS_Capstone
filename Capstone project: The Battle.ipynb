{
    "nbformat_minor": 1, 
    "cells": [
        {
            "execution_count": null, 
            "cell_type": "code", 
            "metadata": {}, 
            "outputs": [], 
            "source": "**A description of the problem and a discussion of the background.**\nThe City of Baltimore would like to bring more tourists to The City. The have enlisted an agency and would like to dig deep into The City's publically availanlr data to understand how to package and group different areas and destinations, to provide a clear experience and itenerary to potential tourists. The plan is to identify potential venues of each neiborhood and identify some distinct areas to provide tours and packaged experience accessible to all.\n\n\n**A description of the data and how it will be used to solve the problem.**\nMap data is avaiable through Foursquare API, and the neighborhood information can be found online through zipcodes."
        }, 
        {
            "source": "", 
            "cell_type": "markdown", 
            "metadata": {}
        }
    ], 
    "metadata": {
        "kernelspec": {
            "display_name": "Python 3.6", 
            "name": "python3", 
            "language": "python"
        }, 
        "language_info": {
            "mimetype": "text/x-python", 
            "nbconvert_exporter": "python", 
            "version": "3.6.8", 
            "name": "python", 
            "file_extension": ".py", 
            "pygments_lexer": "ipython3", 
            "codemirror_mode": {
                "version": 3, 
                "name": "ipython"
            }
        }
    }, 
    "nbformat": 4
}